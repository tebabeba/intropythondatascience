{
 "cells": [
  {
   "attachments": {},
   "cell_type": "markdown",
   "metadata": {},
   "source": [
    "## **Problem Sets**"
   ]
  },
  {
   "attachments": {},
   "cell_type": "markdown",
   "metadata": {},
   "source": [
    "### *Problem Set #1*"
   ]
  },
  {
   "attachments": {},
   "cell_type": "markdown",
   "metadata": {},
   "source": [
    "#### *Problem 1: Arithmetic and Geometric Means*"
   ]
  },
  {
   "attachments": {},
   "cell_type": "markdown",
   "metadata": {},
   "source": [
    "Calculate the sum, product, arithmetic mean, and geometric mean of 11, 12, 17, and 19.\n"
   ]
  },
  {
   "cell_type": "code",
   "execution_count": 104,
   "metadata": {},
   "outputs": [
    {
     "name": "stdout",
     "output_type": "stream",
     "text": [
      "Sum:              59\n",
      "Product:          42636\n",
      "Arithmetic Mean:  14.75\n",
      "Geometric Mean:   10659.0\n"
     ]
    }
   ],
   "source": [
    "#set variables\n",
    "x0 = 11 \n",
    "x1 = 12\n",
    "x2 = 17\n",
    "x3 = 19\n",
    "\n",
    "sumTotal = x0+x1+x2+x3 #sum of x0, x1, x2, x3\n",
    "prodTotal = x0*x1*x2*x3 #product of x0, x1, x2, x3\n",
    "arithMean = sumTotal/4 #arithmetic mean of x0, x1, x2, x3\n",
    "geomMean = prodTotal*(1/4) #geometric mean of x0, x1, x2, x3\n",
    "\n",
    "print('Sum:             ', sumTotal)\n",
    "print('Product:         ', prodTotal)\n",
    "print('Arithmetic Mean: ', arithMean)\n",
    "print('Geometric Mean:  ', geomMean)"
   ]
  },
  {
   "attachments": {},
   "cell_type": "markdown",
   "metadata": {},
   "source": [
    "#### *Problem 2: Calculating Bill*"
   ]
  },
  {
   "attachments": {},
   "cell_type": "markdown",
   "metadata": {},
   "source": [
    "Assume that the order consists of 2 side salads, 2 hamburgers, and 2 diet sodas. Side salads cost 3,95$, hamburgers cost 8,95$, and diet sodas cost 2,50$. HST is 4,75% and tip is 15%. Print the bill."
   ]
  },
  {
   "cell_type": "code",
   "execution_count": 105,
   "metadata": {},
   "outputs": [
    {
     "name": "stdout",
     "output_type": "stream",
     "text": [
      "2 Side Salads:  $7.9\n",
      "2 Hamburger:    $17.9\n",
      "2 Diet Soda:    $5.0\n",
      "----------------------\n",
      "Subtotal:       $30.8\n",
      "Tax (4.75%):    $1.46\n",
      "Tip (15%):      $4.62\n",
      "----------------------\n",
      "Total Charge:   $36.88\n"
     ]
    }
   ],
   "source": [
    "sideSaladCost = 3.95*2 #salad cost\n",
    "hamburgerCost = 8.95*2 #hamburger cost\n",
    "dietSodaCost  = 2.50*2 #diet soda cost\n",
    "TOTAL = sideSaladCost + hamburgerCost + dietSodaCost #subtotal of side salad, hamburger, and diet soda\n",
    "HST = TOTAL*0.0475 #tax\n",
    "TIP = TOTAL*0.15 #tip\n",
    "TOTAL_CHARGE = TOTAL + HST + TIP #total cost of meal\n",
    "\n",
    "#bill\n",
    "print('2 Side Salads:  $'+str(sideSaladCost))\n",
    "print('2 Hamburger:    $'+str(hamburgerCost))\n",
    "print('2 Diet Soda:    $'+str(dietSodaCost))\n",
    "print('----------------------')\n",
    "print('Subtotal:       $'+str(round(TOTAL, 2)))\n",
    "print('Tax (4.75%):    $'+str(round(HST, 2))) \n",
    "print('Tip (15%):      $'+str(round(TIP, 2)))\n",
    "print('----------------------')\n",
    "print('Total Charge:   $'+str(round(TOTAL_CHARGE, 2)))\n",
    "\n"
   ]
  },
  {
   "attachments": {},
   "cell_type": "markdown",
   "metadata": {},
   "source": [
    "#### *Problem 3: Volume of a Sphere*"
   ]
  },
  {
   "attachments": {},
   "cell_type": "markdown",
   "metadata": {},
   "source": [
    "The volume of a sphere is given by the formula: $V= \\dfrac{4}{3}π×r^3$\n",
    "\n",
    " Calculate the volumes of the spheres with a radii of **4.6, 7.2,** and **9.7**."
   ]
  },
  {
   "cell_type": "code",
   "execution_count": 106,
   "metadata": {},
   "outputs": [
    {
     "name": "stdout",
     "output_type": "stream",
     "text": [
      "The volume of a sphere with radius of 4.6 is equal to:  407.72\n",
      "\n",
      "The volume of a sphere with radius of 7.2 is equal to:  1563.458\n",
      "\n",
      "The volume of a sphere with radius of 9.7 is equal to:  3822.996\n"
     ]
    }
   ],
   "source": [
    "import math as m #import math library\n",
    "V1 = (4/3)*m.pi*(4.6)**3 #volume of a sphere with a radius of 4.6\n",
    "V2 = (4/3)*m.pi*(7.2)**3 #volume of a sphere with a radius of 7.2\n",
    "V3 = (4/3)*m.pi*(9.7)**3 #volume of a sphere with a radius of 9.7\n",
    "print('The volume of a sphere with radius of 4.6 is equal to: ', round(V1, 3)) #print V1 with 3 decimal places\n",
    "print('') #insert a blank line\n",
    "print('The volume of a sphere with radius of 7.2 is equal to: ', round(V2,3)) #print V2 with 3 decimal places\n",
    "print('') #insert a blank line\n",
    "print('The volume of a sphere with radius of 9.7 is equal to: ', round(V3, 3)) #print V3 with 3 decimal places"
   ]
  },
  {
   "attachments": {},
   "cell_type": "markdown",
   "metadata": {},
   "source": [
    "#### *Problem 4: Simple Interest*"
   ]
  },
  {
   "attachments": {},
   "cell_type": "markdown",
   "metadata": {},
   "source": [
    "If a loan of *P* dollars collects simple interest at an annual rate of *i* and is repaid after *t* years, then the amount repaid, *A*, is given by the following formula: $A=P×(1+i×t)$\n",
    "\n",
    "Suppose that a loan of $210 collects simple interest at an annual rate of 9% and is repaid after 10 months. What is the amount required to repay this loan?"
   ]
  },
  {
   "cell_type": "code",
   "execution_count": 107,
   "metadata": {},
   "outputs": [
    {
     "name": "stdout",
     "output_type": "stream",
     "text": [
      "Amount Required to Repay Loan: $225.75\n"
     ]
    }
   ],
   "source": [
    "#variables \n",
    "P = 210 #initial loan\n",
    "i = 9/100 #annual interest rate\n",
    "t = 10/12 #years to pay loan \n",
    "A = P*(1+i*t) #amount repaid \n",
    "\n",
    "#print statement \n",
    "print('Amount Required to Repay Loan: $'+str(A))"
   ]
  },
  {
   "attachments": {},
   "cell_type": "markdown",
   "metadata": {},
   "source": [
    "#### *Problem 5: Compound Interest*"
   ]
  },
  {
   "attachments": {},
   "cell_type": "markdown",
   "metadata": {},
   "source": [
    "If a loan of *P* dollars collects compound interest at an annual rate of *i* and is repaid after *t* years, then the amount repaid, *A*, is given by the following formula: $A=P×(1+i)^t$.\n",
    "\n",
    "Suppose that a loan of $400 collects compound interest at an annual rate of 5% and is repaid after 3 years. What is the amount required to repay this loan?"
   ]
  },
  {
   "cell_type": "code",
   "execution_count": 108,
   "metadata": {},
   "outputs": [
    {
     "name": "stdout",
     "output_type": "stream",
     "text": [
      "Amount Required to Repay Loan: $474.63\n"
     ]
    }
   ],
   "source": [
    "#variables \n",
    "P = 410 #initial loan\n",
    "i = 5/100 #annual interest rate\n",
    "t = 3 #years to pay loan\n",
    "A = P*(1+i)**t #amount repaid\n",
    "\n",
    "#print statement \n",
    "print('Amount Required to Repay Loan: $'+str(round(A, 2)))"
   ]
  },
  {
   "attachments": {},
   "cell_type": "markdown",
   "metadata": {},
   "source": [
    "#### *Problem 6: Annuity*"
   ]
  },
  {
   "attachments": {},
   "cell_type": "markdown",
   "metadata": {},
   "source": [
    "An annuity is a scheduled sequence of payments or deposits. Assume that deposits, *PMT*, are made at the end of each year. If the account receiving the deposits collects interest at an annual effective interest rate of *i*, then the balance of the account, *A*, after *n*, years will be: $$A=PMT×\\dfrac{(1+i)^n-1}{i}$$\n",
    "\n",
    "Suppose a couple establishes a college fund for their newborn child by depositing $2000 into an account collecting interest at an annual effective rate of 4% for 18 years. Calculate the balance of the account after 18 years."
   ]
  },
  {
   "cell_type": "code",
   "execution_count": 109,
   "metadata": {},
   "outputs": [
    {
     "name": "stdout",
     "output_type": "stream",
     "text": [
      "Account Balance: $51290.83\n"
     ]
    }
   ],
   "source": [
    "#set variables \n",
    "PMT = 2000 #deposits into account \n",
    "i = 4/100 #annual effective interest rate\n",
    "n = 18 #number of years account will collect interest \n",
    "A = (PMT*(((1+i)**n)-1))/i #Account balance after 18 years \n",
    "\n",
    "#print statement\n",
    "print('Account Balance: $'+str(round(A, 2)))\n"
   ]
  },
  {
   "attachments": {},
   "cell_type": "markdown",
   "metadata": {},
   "source": [
    "#### *Problem 7: Probability*"
   ]
  },
  {
   "attachments": {},
   "cell_type": "markdown",
   "metadata": {},
   "source": [
    "Assume *$A$* and *$B$* refer to two specific events. Let *$P(A)$* denote the probability of event *$A$* occurring, and let *$P(B)$* denote the probability of event *$B$* occurring. Let *$P(A∨B)$* denote the probability of at least one of the two events occurring, and let *$P(A \\land B)$* denote the probability of both events occurring. $P(A∨B)$ and $P(A \\land B)$ are related by the formula: $$P(A∨B)=P(A)+P(B)-P(A∧B)$$ \n",
    "\n",
    "Two events are are independent if the probability of one event does not effect the probability of the other event occurring.\n",
    "If *$A$* and *$B$* are independent then: $$P(A∧B)=P(A)×P(B)$$\n",
    "\n",
    "Assume that Allen and Beth are meeting for dinner. The Probability that Allen is late is equal to **0.6**. The probability that Beth is late is equal to **0.3**. Whether or not one person is late is independent of whether or not the person is late. Write code to calculate the probability that at least one person is late to dinner **and** the probability that **both** people are late to dinner.\n",
    "\n",
    "\n"
   ]
  },
  {
   "cell_type": "code",
   "execution_count": 110,
   "metadata": {},
   "outputs": [
    {
     "name": "stdout",
     "output_type": "stream",
     "text": [
      "Probability of Beth and Allen being late: 0.18\n",
      "Probability of Beth or  Allen being late: 0.72\n"
     ]
    }
   ],
   "source": [
    "#variables \n",
    "probAllen = 0.6 #probability of Allen being late\n",
    "probBeth = 0.3 #probability of Beth being late\n",
    "probBethAndAllen = probBeth*probAllen #probability of both being late\n",
    "probBethOrAllen = probAllen+probBeth-probBethAndAllen #probability of beth or allen being late\n",
    "\n",
    "#print probability \n",
    "print('Probability of Beth and Allen being late:', probBethAndAllen) \n",
    "print('Probability of Beth or  Allen being late:',  probBethOrAllen)"
   ]
  },
  {
   "attachments": {},
   "cell_type": "markdown",
   "metadata": {},
   "source": [
    "#### *Problem 8: Constructing an Output Message*"
   ]
  },
  {
   "attachments": {},
   "cell_type": "markdown",
   "metadata": {},
   "source": [
    "##### Part I:"
   ]
  },
  {
   "attachments": {},
   "cell_type": "markdown",
   "metadata": {},
   "source": [
    "###### 1. Create a variable named day to store the current day.\n",
    "\n",
    "###### 2. Create a variable named month to store the current month.\n",
    "\n",
    "###### 3. Create a variable named year to store the current year. \n",
    "\n",
    "###### 4. Use the variables created above to define a variable named msg. This variable should contain a string, that when printed, will display the values as a properly formatted code cell. This will involve the use of the escape character \\n."
   ]
  },
  {
   "cell_type": "code",
   "execution_count": 111,
   "metadata": {},
   "outputs": [
    {
     "name": "stdout",
     "output_type": "stream",
     "text": [
      "Day:   4 \n",
      "Month: 7 \n",
      "Year:  2023\n",
      "_______________\n",
      "Date:  4/7/2023\n",
      "\n"
     ]
    }
   ],
   "source": [
    "Day = '4' #day of the week\n",
    "Month = '7' #month of the year\n",
    "Year = '2023' #year\n",
    "msg ='Day:   '+Day+' \\nMonth: '+Month+' \\nYear:  '+Year+'\\n'+'_______________'+'\\n'+'Date:  '+Day+'/'+Month+'/'+Year+'\\n' #mes\n",
    "print(msg)"
   ]
  },
  {
   "attachments": {},
   "cell_type": "markdown",
   "metadata": {},
   "source": [
    "##### Part II: "
   ]
  },
  {
   "attachments": {},
   "cell_type": "markdown",
   "metadata": {},
   "source": [
    "###### Create a new code cell and use it to display the number of characters stored in **msg**. "
   ]
  },
  {
   "cell_type": "code",
   "execution_count": 112,
   "metadata": {},
   "outputs": [
    {
     "name": "stdout",
     "output_type": "stream",
     "text": [
      "64\n"
     ]
    }
   ],
   "source": [
    "print(len(msg))"
   ]
  },
  {
   "attachments": {},
   "cell_type": "markdown",
   "metadata": {},
   "source": [
    "### *Problem Set #2*"
   ]
  },
  {
   "attachments": {},
   "cell_type": "markdown",
   "metadata": {},
   "source": [
    "#### *Problem 1: Altering Lists*"
   ]
  },
  {
   "attachments": {
    "image.png": {
     "image/png": "[encoded data removed]"
    }
   },
   "cell_type": "markdown",
   "metadata": {},
   "source": [
    "The table below provides the names of the employees in the department along with the number of years they have been with the company: \n",
    "\n",
    "![image.png](attachment:image.png)"
   ]
  },
  {
   "attachments": {},
   "cell_type": "markdown",
   "metadata": {},
   "source": [
    "##### Part I"
   ]
  },
  {
   "attachments": {},
   "cell_type": "markdown",
   "metadata": {},
   "source": [
    "Create two lists. One should contain the names of the employees as strings and the second should contain the years of service for each employee as integers. \n",
    "\n",
    "The lists should be created in parallel so that the values in the two lists at a particular index refer to the same person. The lists should be ordered in decreasing order of service. Preform the sorting manually rather than using a sorting function. Print the lists. "
   ]
  },
  {
   "cell_type": "code",
   "execution_count": 113,
   "metadata": {},
   "outputs": [
    {
     "name": "stdout",
     "output_type": "stream",
     "text": [
      "['Beth', 'Fred', 'Drew', 'Alex', 'Emma', 'Chad']\n",
      "[15, 11, 8, 5, 4, 2]\n"
     ]
    }
   ],
   "source": [
    "employeeName = ['Beth','Fred','Drew','Alex','Emma','Chad'] #list of employees\n",
    "employeeExperience = [15, 11, 8, 5, 4, 2] #list of employees' experience\n",
    "\n",
    "print(employeeName)\n",
    "print(employeeExperience)"
   ]
  },
  {
   "attachments": {},
   "cell_type": "markdown",
   "metadata": {},
   "source": [
    "##### Part 2"
   ]
  },
  {
   "attachments": {},
   "cell_type": "markdown",
   "metadata": {},
   "source": [
    "Suppose that two employees from different departments transfer to this department. The new members are named Gina, with 12 years of experience, and Herb, with 3 years of experience. The department hires a new employee, Iris, from outside the company. \n",
    "\n",
    "Update the employee and years list and print the lists. "
   ]
  },
  {
   "cell_type": "code",
   "execution_count": 114,
   "metadata": {},
   "outputs": [
    {
     "name": "stdout",
     "output_type": "stream",
     "text": [
      "['Beth', 'Gina', 'Fred', 'Drew', 'Alex', 'Emma', 'Herb', 'Chad', 'Iris']\n",
      "[15, 12, 11, 8, 5, 4, 3, 2, 0]\n"
     ]
    }
   ],
   "source": [
    "employeeName.insert(1, 'Gina') #insert Gina at index 1\n",
    "employeeExperience.insert(1, 12) #insert Gina's experience at index 1\n",
    "employeeName.insert(6, 'Herb') #insert Herb at index \n",
    "employeeExperience.insert(6, 3) #insert Herb's experience at index 5\n",
    "employeeName.append('Iris') #insert Iris to the end of the list\n",
    "employeeExperience.append(0) #insert Iris' experience to the end of the list\n",
    "\n",
    "print(employeeName)\n",
    "print(employeeExperience)"
   ]
  },
  {
   "attachments": {},
   "cell_type": "markdown",
   "metadata": {},
   "source": [
    "##### Part 3"
   ]
  },
  {
   "attachments": {},
   "cell_type": "markdown",
   "metadata": {},
   "source": [
    "Fred accepts an offer and leaves the company. Remove his information. Additionally, it is discovered that Emma's years of service was recorded incorrectly. She actually has 6 years of service rather than 4. Update and print both lists."
   ]
  },
  {
   "cell_type": "code",
   "execution_count": 115,
   "metadata": {},
   "outputs": [
    {
     "name": "stdout",
     "output_type": "stream",
     "text": [
      "['Beth', 'Gina', 'Drew', 'Emma', 'Alex', 'Herb', 'Chad', 'Iris']\n",
      "[15, 12, 8, 6, 5, 3, 2, 0]\n"
     ]
    }
   ],
   "source": [
    "#edit Emma's experience\n",
    "employeeExperience[5] = 6 #edit Emma's experience\n",
    "employeeExperience.sort(reverse = True) #sort the list\n",
    "employeeName[4], employeeName[5] = employeeName[5], employeeName[4] #swap positions of Emma and Alex\n",
    "\n",
    "#remove Fred from lists\n",
    "employeeName.remove('Fred') #remove Fred from the list\n",
    "employeeExperience.remove(11) #remove Fred's experience from the list\n",
    "\n",
    "#print lists \n",
    "\n",
    "print(employeeName)\n",
    "print(employeeExperience)"
   ]
  },
  {
   "attachments": {},
   "cell_type": "markdown",
   "metadata": {},
   "source": [
    "#### *Problem 2: Sorting and Slicing Lists*"
   ]
  },
  {
   "attachments": {},
   "cell_type": "markdown",
   "metadata": {},
   "source": [
    "Import the random library and the seed as 12 (import random random.seed(12)). Make a list with a range of 0-500, and 99 instances: random.sample(range(500),99). Print the length of the random list. Use list slicing to display the first ten elements on the same line and on a new line the length of the list with proper formatting. Use the sum() function to find the sum of the list and print the result. Create a sorted list from the random list and use slicing to print the first ten elements. Create 3 lists: list 1 will include the 33 smallest elements in the sorted list, list 2 will contain the middle 33 elements of the sorted list, and list 3 will contain the largest 33 elements of the sorted list. Print the smallest and largest value for each of these new lists. "
   ]
  },
  {
   "cell_type": "code",
   "execution_count": 116,
   "metadata": {},
   "outputs": [
    {
     "name": "stdout",
     "output_type": "stream",
     "text": [
      "\u001b[1m\u001b[4m\u001b[96mRandom List:\u001b[0m\n",
      "\u001b[96mFirst Ten Elements: [242, 137, 336, 270, 341, 179, 73, 195, 5, 191]\n",
      "Lenght of List:     99\n",
      "Sum of List:        23739\n",
      "First 33 Elements:  [242, 137, 336, 270, 341, 179, 73, 195, 5, 191, 247, 140, 329, 414, 235, 353, 442, 307, 116, 285, 0, 338, 319, 74, 225, 188, 83, 173, 463, 107, 30, 295, 419]\n",
      "Middle 33 Elements: [102, 38, 262, 351, 467, 172, 348, 207, 408, 431, 44, 9, 31, 462, 478, 260, 114, 46, 216, 227, 57, 452, 448, 69, 276, 160, 318, 480, 473, 356, 26, 284, 87]\n",
      "Last 33 Elements:   [259, 417, 42, 205, 311, 214, 342, 305, 240, 244, 429, 196, 277, 15, 328, 371, 457, 98, 403, 339, 133, 182, 185, 484, 197, 344, 158, 58, 129, 120, 171, 186, 190]\n",
      " \u001b[0m\n",
      "\u001b[1m\u001b[4m\u001b[93mSorted List:\u001b[0m\n",
      "\u001b[93mFirst Ten Elements: [0, 5, 9, 15, 26, 30, 31, 38, 42, 44]\n",
      "Lenght of List:     99\n",
      "Sum of List:        23739\n",
      "First 33 Elements:  [0, 5, 9, 15, 26, 30, 31, 38, 42, 44, 46, 57, 58, 69, 73, 74, 83, 87, 98, 102, 107, 114, 116, 120, 129, 133, 137, 140, 158, 160, 171, 172, 173]\n",
      "Min of First:       0\n",
      "Max of First:       173\n",
      "Middle 33 Elements: [179, 182, 185, 186, 188, 190, 191, 195, 196, 197, 205, 207, 214, 216, 225, 227, 235, 240, 242, 244, 247, 259, 260, 262, 270, 276, 277, 284, 285, 295, 305, 307, 311]\n",
      "Min of Middle:      179\n",
      "Max of Middle:      311\n",
      "Last 33 Elements:   [318, 319, 328, 329, 336, 338, 339, 341, 342, 344, 348, 351, 353, 356, 371, 403, 408, 414, 417, 419, 429, 431, 442, 448, 452, 457, 462, 463, 467, 473, 478, 480, 484]\n",
      "Min of Last:        318\n",
      "Max of Last:        484\n",
      " \u001b[0m\n"
     ]
    }
   ],
   "source": [
    "#Library\n",
    "import random as rdm #import random library\n",
    "\n",
    "#Lists\n",
    "rdm.seed(12)  #set random seed to 12\n",
    "rdm_list = rdm.sample(range(500), 99) #generate 99 random numbers between 0 and 500\n",
    "sort_list = sorted(rdm_list) #sorted \n",
    "\n",
    "#Random List Print\n",
    "print('\\033[1m'+'\\033[4m'+'\\033[96m'+\"Random List:\"+'\\033[0m')\n",
    "print('\\033[96m''First Ten Elements:', rdm_list[:10]) #print first 10 random numbers\n",
    "print('Lenght of List:    ', len(rdm_list)) #print length of rdm_list\n",
    "print('Sum of List:       ', sum(rdm_list)) #print sum of rdm_list\n",
    "print('First 33 Elements: ', rdm_list[0:33]) #print first 33 random numbers\n",
    "print('Middle 33 Elements:', rdm_list[33:66]) #print middle 33 random numbers\n",
    "print('Last 33 Elements:  ', rdm_list[66:99]) #print last 33 random numbers\n",
    "print(' '+'\\033[0m') #print a blank line\n",
    "\n",
    "#Sorted List Print\n",
    "print('\\033[1m'+'\\033[4m'+'\\033[93m'+\"Sorted List:\"+'\\033[0m') #Sorted List Section\n",
    "print('\\033[93m'+'First Ten Elements:', sort_list[0:10]) #print first 10 sorted random numbers\n",
    "print('Lenght of List:    ', len(sort_list)) #print length of sort_list\n",
    "print('Sum of List:       ', sum(sort_list)) #print sum of sort_list\n",
    "print('First 33 Elements: ', sort_list[0:33]) #print first 33 sorted random numbers\n",
    "print('Min of First:      ', min(sort_list[0:33])) #print min of first 33 sorted random numbers\n",
    "print('Max of First:      ', max(sort_list[0:33])) #print max of first 33 sorted random numbers\n",
    "print('Middle 33 Elements:', sort_list[33:66]) #print middle 33 sorted random numbers\n",
    "print('Min of Middle:     ', min(sort_list[33:66])) #print min of middle 33 sorted random numbers\n",
    "print('Max of Middle:     ', max(sort_list[33:66])) #print max of middle 33 sorted random numbers\n",
    "print('Last 33 Elements:  ', sort_list[66:99]) #print last 33 sorted random numbers\n",
    "print('Min of Last:       ', min(sort_list[66:99])) #print min of last 33 sorted random numbers\n",
    "print('Max of Last:       ', max(sort_list[66:99])) #print max of last 33 sorted random numbers\n",
    "print(' '+'\\033[0m') #print a blank line\n"
   ]
  },
  {
   "attachments": {},
   "cell_type": "markdown",
   "metadata": {},
   "source": [
    "#### *Problem 3: Magnitude of a Vector*"
   ]
  },
  {
   "attachments": {},
   "cell_type": "markdown",
   "metadata": {},
   "source": [
    "Suppose a vector, *$\\overrightarrow v$*, with *$n$* elements is defined as follows: $$\\overrightarrow v = [\\overrightarrow v_{1},\\overrightarrow v_{2},\\overrightarrow v_{3}...\\overrightarrow v_{n}]$$\n",
    "\n",
    "The magnitude of *$\\overrightarrow v$* is calculated by the following formula:$$|\\overrightarrow v|=\\sqrt{\\overrightarrow v^2_{1}+\\overrightarrow v^2_{2}+\\overrightarrow v^2_{3}...+\\overrightarrow v^2_{n}}$$\n",
    "\n",
    "A unit vector, **$\\hat{v}$**, is a vector whose magnitude is equal to 1: $$|\\overrightarrow v|=1⊃\\hat{v}=\\sqrt{\\overrightarrow v^2_{1}+\\overrightarrow v^2_{2}+\\overrightarrow v^2_{3}...+\\overrightarrow v^2_{n}}$$ \n",
    "\n",
    "**$\\hat{v}$** can be  created from any vector *$\\overrightarrow v$* by dividing each element of *$\\overrightarrow v$* by $|\\overrightarrow v|$.\n",
    "\n",
    "Create a list containing the vector elements 11, 6, 4, -8, -13, and 2 and find the magnitude. For efficiency, use a loop and do not create any more lists to preform the calculation. Next, find the unit vector using a loop or list comprehension function. Use a new list to stored the rounded unit vector. \n",
    "\n",
    "**Print the magnitude of the first vector to 4 decimal places, print the elements of the unit vector to 4 decimal places, and prove the unit vector is in fact a unit vector.**\n",
    "\n"
   ]
  },
  {
   "cell_type": "code",
   "execution_count": 117,
   "metadata": {},
   "outputs": [
    {
     "name": "stdout",
     "output_type": "stream",
     "text": [
      "\u001b[95m\u001b[1mVector:                  \u001b[0m \u001b[95m [11.0, 6.0, 4.0, 21.0]\n",
      "\u001b[95m\u001b[1mVector Magnitude:        \u001b[0m \u001b[95m 24.779\n",
      "\u001b[93m-----------------------------------------------------------\n",
      "\u001b[96m\u001b[1mUnit Vector:             \u001b[0m \u001b[96m [0.4439, 0.2421, 0.1614, 0.8475]\n",
      "\u001b[96m\u001b[1mUnit Vector Magnitude:   \u001b[0m \u001b[96m 1.0\n"
     ]
    }
   ],
   "source": [
    "#libraries\n",
    "import math as m #import math library as m \n",
    "\n",
    "#set ANSI colours \n",
    "class colour: \n",
    "    LIGHT_CYAN = '\\033[96m' #light cyan\n",
    "    LIGHT_MAGENTA = '\\033[95m' #light magenta\n",
    "    YELLOW = '\\033[93m' #yellow\n",
    "#set ANSI styles\n",
    "class style: \n",
    "    RESET_ALL = '\\033[0m' #reset all to default \n",
    "    BOLD = '\\033[1m' #bold text\n",
    "\n",
    "#Vector!\n",
    "vector = [11, 6, 4, -8 -13,] #define vector\n",
    "\n",
    "#magnitude \n",
    "for i in range(len(vector)): #find the square of each element in the list\n",
    "    vector[i] = vector[i]**2 #square each element in the list\n",
    "magnitude_vector = m.sqrt(sum(vector)) #find the magnitude of the vector\n",
    "\n",
    "#unit vector\n",
    "for i in range(len(vector)): #reinitialize vector \n",
    "    vector[i] = m.sqrt(vector[i]) #square each element in the list\n",
    "unit_vector = [vector[i]/magnitude_vector for i in range(len(vector))] #find unit vector\n",
    "rounded_unit_vector = [round(unit_vector[i], 4) for i in range(len(unit_vector))] #round unit vector\n",
    "\n",
    "#unit vector proof\n",
    "for i in range(len(unit_vector)): #find magnitude of unit vector\n",
    "    unit_vector[i] = unit_vector[i]**2 #square each element in unit vector\n",
    "magnitude_unit_vector = m.sqrt(sum(unit_vector)) #find magnitude of unit vector\n",
    "\n",
    "#print vector and magnitude\n",
    "print(colour.LIGHT_MAGENTA+style.BOLD+'Vector:                 ', style.RESET_ALL, colour.LIGHT_MAGENTA, vector)\n",
    "print(colour.LIGHT_MAGENTA+style.BOLD+'Vector Magnitude:       ', style.RESET_ALL, colour.LIGHT_MAGENTA, round(magnitude_vector, 4))\n",
    "\n",
    "print(colour.YELLOW+'-----------------------------------------------------------')\n",
    "\n",
    "#print rounded unit vector and magnitude\n",
    "print(colour.LIGHT_CYAN+style.BOLD+'Unit Vector:            ', style.RESET_ALL, colour.LIGHT_CYAN, rounded_unit_vector)\n",
    "print(colour.LIGHT_CYAN+style.BOLD+'Unit Vector Magnitude:  ', style.RESET_ALL, colour.LIGHT_CYAN, round(magnitude_unit_vector, 4))\n",
    "\n"
   ]
  },
  {
   "attachments": {},
   "cell_type": "markdown",
   "metadata": {},
   "source": [
    "#### *Problem 4: Fibonacci Sequence*"
   ]
  },
  {
   "attachments": {},
   "cell_type": "markdown",
   "metadata": {},
   "source": [
    "The Fibonacci Sequence is a sequence of numbers defined as the following: \n",
    "    \n",
    "1. The frist two terms in the sequence are 0 and 1 \n",
    "2. Any later terms are determined by summing together the two previous sequences. \n",
    "\n",
    "Store the first 30 terms in a list and print it along with its class and length. "
   ]
  },
  {
   "cell_type": "code",
   "execution_count": 118,
   "metadata": {},
   "outputs": [
    {
     "name": "stdout",
     "output_type": "stream",
     "text": [
      "\u001b[1mFirst 30 Terms of Fibonacci Sequence:\u001b[0m\n",
      "[0, 1, 1, 2, 3, 5, 8, 13, 21, 34, 55, 89, 144, 233, 377, 610, 987, 1597, 2584, 4181, 6765, 10946, 17711, 28657, 46368, 75025, 121393, 196418, 317811, 514229]\n",
      "\u001b[1m\n",
      "Class of Sequence:\u001b[0m \n",
      " <class 'list'>\n",
      "\u001b[1m\n",
      "Length of Sequence:\u001b[0m \n",
      " 30\n"
     ]
    }
   ],
   "source": [
    "fib = [0, 1] #initialize Fibonacci sequence\n",
    "\n",
    "for i in range(len(fib)):#generate Fibonacci sequence\n",
    "    while len(fib)<30: #loop while length of sequence<30 \n",
    "        fib.append(fib[i-1]+fib[i-2])\n",
    "    if len(fib)==30: #stops when length of Fibonacci sequence is 30 and prints results\n",
    "        print('\\033[1m'+'First 30 Terms of Fibonacci Sequence:''\\033[0m')\n",
    "        print(fib)\n",
    "        print('\\033[1m'+'\\nClass of Sequence:'+'\\033[0m', '\\n',type(fib))\n",
    "        print('\\033[1m'+'\\nLength of Sequence:'+'\\033[0m', '\\n', len(fib))\n",
    "        break \n"
   ]
  },
  {
   "attachments": {},
   "cell_type": "markdown",
   "metadata": {},
   "source": [
    "#### *Problem 5: Printing A Table*"
   ]
  },
  {
   "attachments": {
    "image.png": {
     "image/png": "[encoded data removed]"
    }
   },
   "cell_type": "markdown",
   "metadata": {},
   "source": [
    "Consider the following database of student information: \n",
    "\n",
    "![image.png](attachment:image.png)\n",
    "\n",
    "Creat 5 lists to store the contents of the columns in the table. Using a loop function, print the contents of the list with properly formatted columns. "
   ]
  },
  {
   "cell_type": "code",
   "execution_count": 119,
   "metadata": {},
   "outputs": [
    {
     "name": "stdout",
     "output_type": "stream",
     "text": [
      "\u001b[1mFirst Name  Last Name   Major           Credits      GPA \u001b[0m\n",
      "--------------------------------------------------------\n",
      "Anna        Anderson    Mathematics         110     3.56\n",
      "Beatrice    Brown       Data Science         83     3.24\n",
      "Charles     Clark       Biology              64     3.87\n",
      "David       Daniels     Chemistry            35     2.83\n",
      "Emma        Edwards     Computer Science    104     3.61\n"
     ]
    }
   ],
   "source": [
    "#define lists\n",
    "firstName = ['Anna   ', 'Beatrice', 'Charles ', 'David   ', 'Emma    ']\n",
    "lastName = [' Anderson', 'Brown   ', 'Clark   ', 'Daniels ', 'Edwards ']\n",
    "major = ['Mathematics     ', 'Data Science    ', 'Biology         ', 'Chemistry       ', 'Computer Science']\n",
    "credits = [110,' 83',' 64', ' 35', 104]\n",
    "gpa = [3.56, 3.24, 3.87, 2.83, 3.61]\n",
    "\n",
    "#print lists\n",
    "print('\\033[1mFirst Name  Last Name   Major           Credits      GPA', '\\033[0m')\n",
    "print('--------------------------------------------------------')\n",
    "for i in range(0, 5): #print table :)\n",
    "    print(firstName[i],'  ', lastName[i],'  ', major[i], '  ', credits[i],'   ', gpa[i])"
   ]
  },
  {
   "attachments": {},
   "cell_type": "markdown",
   "metadata": {},
   "source": [
    "#### *Problem 6: Simple Regression :)*"
   ]
  },
  {
   "attachments": {},
   "cell_type": "markdown",
   "metadata": {},
   "source": [
    "Suppose that a biologist is studying the relationship between the length and weight of yellow-bellied marmots. Based on prior work, she believes that the length and weight of adult marmots can be approximately modeled by a relationship of the following form: $weight=0.6×length-5.2$\n",
    "\n",
    "To test this model, the biologist collects a sample of 20 adult marmots. The lengths and weights of the marmots are as follows: $$length=[22.7, 22.4, 25.8, 21.3, 22.1, 21.1, 25.3, 26.9, 23.0, 23.8, 26.2, 20.4, 23.0, 21.9, 23.5, 27.8, 25.3, 25.9]$$ $$weight=[9.2, 8.8, 10.7, 8.3, 6.2, 8.6, 7.2, 11.2, 10.5, 11.3, 9.6, 9.9, 10.9, 5.9, 9.5, 9.1, 9.7, 11.6, 10.2, 10.5]$$\n",
    "\n",
    "**$SSE$** is given by the following formula: $$SSE=\\overset{n}{\\underset{i=1}{∑}}(y_{i}-\\hat{y_{i}})^2$$\n",
    "\n",
    "**$SST$** is given by the following formula: $$SST=\\overset{n}{\\underset{i=1}{∑}}(y_{i}-\\bar{y})^2$$\n",
    "\n",
    "**$R^2$** is given by the following formula: $$R^2=1-\\frac{SSE}{SST}$$ \n",
    "\n",
    "If $SST=0$, then the fit is perfect and $R^2=1$. Calculate the **$SSE$**, **$SST$**, and **$R^2$**."
   ]
  },
  {
   "cell_type": "code",
   "execution_count": 120,
   "metadata": {},
   "outputs": [
    {
     "name": "stdout",
     "output_type": "stream",
     "text": [
      "SSE= 48.8784\n",
      "SST= 0\n",
      "Since SST=0, RSQ=1\n"
     ]
    }
   ],
   "source": [
    "#variables \n",
    "length = [22.7, 22.4, 25.8, 21.3, 22.1, 21.1, 25.3, 26.9, 23.0, 23.8, 26.2, 20.4, 23.0, 21.9, 23.5, 27.8, 25.3, 25.9]\n",
    "weight = [9.2, 8.8, 10.7, 8.3, 6.2, 8.6, 7.2, 11.2, 10.5, 11.3, 9.6, 9.9, 10.9, 5.9, 9.5, 9.1, 9.7, 11.6, 10.2, 10.5]\n",
    "weight_predicted = [length[i]*0.6-5.2 for i in range(len(length))]    \n",
    "weight_avg = sum(weight)/len(weight) #average weight\n",
    "\n",
    "#SSE\n",
    "SSE_LIST=[] \n",
    "for i in range(len(weight)):\n",
    "    SSE_LIST.append(0) #resize SSE to length of weight\n",
    "for i in range(len(weight_predicted)):\n",
    "    SSE_LIST[i] = ((weight[i]-weight_predicted[i])**2) #squared errors\n",
    "SSE= sum(SSE_LIST)\n",
    "\n",
    "#SST \n",
    "SST_LIST=[]\n",
    "for i in range(len(weight)):\n",
    "    SST_LIST.append(0) #resize SST to length of weight\n",
    "for i in range(len(weight)):\n",
    "    SSE_LIST[i] = ((weight[i]-weight_avg)**2) #squared errors\n",
    "SST = sum(SST_LIST)\n",
    "\n",
    "print('SSE=', round(SSE, 4))\n",
    "print('SST=',SST)\n",
    "print('Since SST=0, RSQ=1')"
   ]
  },
  {
   "attachments": {},
   "cell_type": "markdown",
   "metadata": {},
   "source": [
    "#### *Problem 7: Determining Monthly Payments*"
   ]
  },
  {
   "attachments": {},
   "cell_type": "markdown",
   "metadata": {},
   "source": [
    "Assume that a loan collects interest at a monthly interest rate, ***$i$***, and let ***$n$***, denote the number of monthly payments. The size of the loan, ***$L$***, and the required monthly payment, ***$PMT$***, are related according to the following formula: $$L=PMT×\\frac{1-(1+i)^{-n}}{i}$$\n",
    "\n",
    "Assume that you are considering purchasing a house and have been approved for a 30-year loan with a 0.4% monthly interest rate. We will calculate the monthly payment required for several different house prices between $100,000 and $200,000. Specifically, we will consider a sequence of prices starting at $100,000 and increasing in increments up to a price of $200,000. \n",
    "\n",
    "**Using one loop, show the monthly payments for each price point. Do not use any lists.**"
   ]
  },
  {
   "cell_type": "code",
   "execution_count": 121,
   "metadata": {},
   "outputs": [
    {
     "name": "stdout",
     "output_type": "stream",
     "text": [
      "A loan of $\u001b[1m100000 \u001b[0m would require monthly payments of \u001b[1m$524.67\u001b[0m.\n",
      "A loan of $\u001b[1m110000 \u001b[0m would require monthly payments of \u001b[1m$577.13\u001b[0m.\n",
      "A loan of $\u001b[1m120000 \u001b[0m would require monthly payments of \u001b[1m$629.60\u001b[0m.\n",
      "A loan of $\u001b[1m130000 \u001b[0m would require monthly payments of \u001b[1m$682.06\u001b[0m.\n",
      "A loan of $\u001b[1m140000 \u001b[0m would require monthly payments of \u001b[1m$734.53\u001b[0m.\n",
      "A loan of $\u001b[1m150000 \u001b[0m would require monthly payments of \u001b[1m$787.00\u001b[0m.\n",
      "A loan of $\u001b[1m160000 \u001b[0m would require monthly payments of \u001b[1m$839.46\u001b[0m.\n",
      "A loan of $\u001b[1m170000 \u001b[0m would require monthly payments of \u001b[1m$891.93\u001b[0m.\n",
      "A loan of $\u001b[1m180000 \u001b[0m would require monthly payments of \u001b[1m$944.40\u001b[0m.\n",
      "A loan of $\u001b[1m190000 \u001b[0m would require monthly payments of \u001b[1m$996.86\u001b[0m.\n",
      "A loan of $\u001b[1m200000 \u001b[0m would require monthly payments of \u001b[1m$1049.33\u001b[0m.\n"
     ]
    }
   ],
   "source": [
    "#variables \n",
    "i=0.004 #interest rate\n",
    "n=30*12 #number of monthly  payments\n",
    "L=100000 #initialize initial loan\n",
    "PMT = L/((1-(1+i)**(-n))/i) #calculate monthly payment\n",
    "\n",
    "#print statements\n",
    "print('A loan of $'+'\\033[1m'+str(L),'\\033[0m','would require monthly payments of '+'\\033[1m$'+f'{PMT:.2f}'+'\\033[0m'+'.')\n",
    "while L<200000:\n",
    "    L=L+10000\n",
    "    PMT = L/((1-(1+i)**(-n))/i) #calculate monthly payment\n",
    "    print('A loan of $'+'\\033[1m'+str(L),'\\033[0m','would require monthly payments of '+'\\033[1m$'+f'{PMT:.2f}'+'\\033[0m.')\n",
    "\n"
   ]
  },
  {
   "attachments": {},
   "cell_type": "markdown",
   "metadata": {},
   "source": [
    "#### *Problem 8: Addition of Matrices*"
   ]
  },
  {
   "attachments": {},
   "cell_type": "markdown",
   "metadata": {},
   "source": [
    "Add the following matrices: \n",
    "$$A=\\begin{bmatrix}\n",
    "        13 & 43 & 28 & 22 & 41 \\\\\n",
    "        17 & 39 & 46 & 16 & 21 \\\\\n",
    "        41 & 34 & 31 & 25 & 14\n",
    "    \\end{bmatrix}\n",
    "      \\hspace{10pt}\n",
    "    B=\\begin{bmatrix}\n",
    "        35 & 29 & 43 & 21 & 31 \\\\\n",
    "        48 & 26 & 19 & 17 & 23 \\\\\n",
    "        32 & 34 & 24 & 16 & 27 \n",
    "        \\end{bmatrix} $$\n",
    "\n",
    "Using nested loops with three lists for each matrix, calculate $A+B$. Format the output accordingly (ie each row and each column should be distinct). "
   ]
  },
  {
   "cell_type": "code",
   "execution_count": 122,
   "metadata": {},
   "outputs": [
    {
     "name": "stdout",
     "output_type": "stream",
     "text": [
      "\u001b[01m A+B=\u001b[00m \n",
      " 48   72   71   43   72 \n",
      " 65   65   65   33   44 \n",
      " 73   68   55   41   41\n"
     ]
    }
   ],
   "source": [
    "#A Matrix\n",
    "A1n = [13, 43, 28, 22, 41] #first row\n",
    "A2n = [17, 39, 46, 16, 21] #second row\n",
    "A3n = [41, 34, 31, 25, 14] #third row \n",
    "\n",
    "#B matrix \n",
    "B1n = [35, 29, 43, 21, 31] #first row\n",
    "B2n = [48, 26, 19, 17, 23] #second row\n",
    "B3n = [32, 34, 24, 16, 27] #third row\n",
    "\n",
    "#A+B\n",
    "AB1n = [0]*len(A1n) #initialize first row\n",
    "AB2n = [0]*len(A2n) #initialize second row\n",
    "AB3n = [0]*len(A3n) #initialize third row\n",
    "\n",
    "#calculate A+B\n",
    "for n in range(len(A1n)):\n",
    "    AB1n[n] = A1n[n]+B1n[n]\n",
    "    for n in range (len(A2n)):\n",
    "        AB2n[n]=A2n[n]+B2n[n]\n",
    "        for n in range(len(A3n)):\n",
    "            AB3n[n]=A3n[n]+B3n[n]\n",
    "#print A+B\n",
    "print('\\033[01m','A+B=''\\033[00m','\\n',AB1n[0],' ',AB1n[1],' ',AB1n[2],' ',AB1n[3],' ',AB1n[4],\n",
    "      '\\n', AB2n[0],' ',AB2n[1],' ',AB2n[2],' ',AB2n[3],' ',AB2n[4],\n",
    "      '\\n', AB3n[0],' ',AB3n[1],' ',AB3n[2],' ',AB3n[3],' ',AB3n[4],)\n"
   ]
  },
  {
   "attachments": {},
   "cell_type": "markdown",
   "metadata": {},
   "source": [
    "### *Problem Set #3*"
   ]
  },
  {
   "attachments": {},
   "cell_type": "markdown",
   "metadata": {},
   "source": [
    "#### *Problem 1: Calculating Exam Scores*"
   ]
  },
  {
   "attachments": {},
   "cell_type": "markdown",
   "metadata": {},
   "source": [
    "Two students have taken a multiple-choice exam with 25 questions. The answers for student 1 and student 2 are as follows: $$Student\\hspace{3pt}\\textit{1}: A, B, C, A, B, D, A, A, C, B, D, A, D, C, C, B, C, D, B, A, D, D, C, C, A$$\n",
    "$$Student\\hspace{3pt}\\textit{2}: D, A, C, A, B, D, A, C, C, B, D, A, B, D, A, D, C, D, C, A, B, C, C, B, A$$\n",
    "\n",
    "Use the following answer key to determine their percentage: \n",
    "\n",
    "$$\\hspace{-1pt}Correct Answers: D, B, C, A, C, D, A, C, C, B, D, A, B, D, C, D, C, D, C, A, B, D, C, B, A$$\n",
    "\n",
    "Calculate the percentage achieved on the test for each student using loops. **Use exactly three lists (one for student 1, student 2, and the correct answers) and one loop.**"
   ]
  },
  {
   "cell_type": "code",
   "execution_count": 123,
   "metadata": {},
   "outputs": [
    {
     "name": "stdout",
     "output_type": "stream",
     "text": [
      "Score of Student 1: 56.00 %\n",
      "Score of Student 2: 100.00 %\n"
     ]
    }
   ],
   "source": [
    "#answers \n",
    "student_1_ans = ['A', 'B','C','A','B','D','A','A','C','B','D','A','D','C','C','B','C','D','B','A','D','D','C','C','A']\n",
    "student_2_ans =['D','A','C','A','B','D', 'A', 'C','C','B','D','A','B','D','A','D', 'C','D','C','A','B','C','C','B','A']\n",
    "correct_ans = ['D','A','C','A','B','D','A','C','C','B','D','A','B','D','A','D','C','D','C','A','B','C','C','B','A']\n",
    "\n",
    "#variables\n",
    "student_1_score = 0 #initialize score of student 1\n",
    "student_2_score = 0 #initialize score of student 2\n",
    "\n",
    "#student scores \n",
    "for i in range(len(correct_ans)): #this loop will scan each index (0-25) and add a score of +1 if they corr_ans=student_ans and nothing if they aren't :^)\n",
    "    if student_1_ans[i] == correct_ans[i]:\n",
    "        student_1_score = student_1_score+1\n",
    "    if student_2_ans[i] == correct_ans[i]: \n",
    "        student_2_score = student_2_score+1\n",
    "\n",
    "#display student score      \n",
    "print('Score of Student 1:', f'{((student_1_score/len(correct_ans))*100):2.2f}','%') #2.2f denotes \"00.00\" f-string integer\n",
    "print('Score of Student 2:', f'{((student_2_score/len(correct_ans))*100):2.2f}','%') #inside the f-string it has a percentage calculation: score%=(score/corr_ans)*100%\n"
   ]
  },
  {
   "attachments": {},
   "cell_type": "markdown",
   "metadata": {},
   "source": [
    "#### *Question 2: Calculating Price of Bulk Order*"
   ]
  },
  {
   "attachments": {},
   "cell_type": "markdown",
   "metadata": {},
   "source": [
    "WidgCo is a company that sells widgets. The company uses the bulk pricing policy described below: \n",
    "\n",
    "* If 100 or fewer widgets are ordered, each widget costs $350\n",
    "*  If 200 or fewer widgets are ordered, the first 100 widgets cost $350 and each additional widget costs $300\n",
    "*   If 200 or more widgets are ordered, the first 100 widgets cost $350, the next 100 cost $300, and each widget beyond 200 cost $250. \n",
    "\n",
    "Calculate the price for  86, 100, 126, 150, 186, 200, 216, and 248 widgets. **Use only ONE list, ONE loop, and ONE print statement.**"
   ]
  },
  {
   "cell_type": "code",
   "execution_count": 124,
   "metadata": {},
   "outputs": [
    {
     "name": "stdout",
     "output_type": "stream",
     "text": [
      "The price for  86 widgets is: $30100\n",
      "The price for 100 widgets is: $35000\n",
      "The price for 126 widgets is: $42800\n",
      "The price for 150 widgets is: $50000\n",
      "The price for 186 widgets is: $60800\n",
      "The price for 200 widgets is: $65000\n",
      "The price for 216 widgets is: $69000\n",
      "The price for 248 widgets is: $77000\n"
     ]
    }
   ],
   "source": [
    "widget_quantity = [86, 100, 126, 150, 186, 200, 216, 248]\n",
    "\n",
    "#variables\n",
    "price_first_100 = 100*350 #price of first 100\n",
    "price_second_100 = 100*300 #price of second 100\n",
    "price_first_200 = price_first_100 + price_second_100 #price of first 200\n",
    "\n",
    "#scan list for i in three ranges, calculate sum of widget prices based on quantity ordered\n",
    "    #if 100 or fewer widgets ordered, each widget is $350\n",
    "    #if 200 or fewer widgets ordered, first 100 widgets $350, next 100 $300\n",
    "    #if >200 widgets ordered, first 100 widgets $350, next 100 $300,rest are $250 \n",
    "for i in range(len(widget_quantity)): \n",
    "    if  widget_quantity[i] <= 100:  \n",
    "        widget_quantity[i]=widget_quantity[i]*350\n",
    "    elif 100<widget_quantity[i]<=200: \n",
    "        price_over_100=(widget_quantity[i]-100)*300  \n",
    "        widget_quantity[i]=price_over_100+price_first_100\n",
    "    else: \n",
    "        price_over_200 = (widget_quantity[i]-200)*250 \n",
    "        widget_quantity[i] = price_over_200+price_first_200\n",
    "        \n",
    "#print statement of costs associated with 'i' widget quantity\n",
    "print('The price for  86 widgets is:'+' $'+str(widget_quantity[0])+\n",
    "      '\\n'+'The price for 100 widgets is:'+' $'+str(widget_quantity[1])+\n",
    "      '\\n'+'The price for 126 widgets is:'+' $'+str(widget_quantity[2])+\n",
    "      '\\n'+'The price for 150 widgets is:'+' $'+str(widget_quantity[3])+\n",
    "      '\\n'+'The price for 186 widgets is:'+' $'+str(widget_quantity[4])+\n",
    "      '\\n'+'The price for 200 widgets is:'+' $'+str(widget_quantity[5])+\n",
    "      '\\n'+'The price for 216 widgets is:'+' $'+str(widget_quantity[6])+\n",
    "      '\\n'+'The price for 248 widgets is:'+' $'+str(widget_quantity[7]))"
   ]
  },
  {
   "attachments": {},
   "cell_type": "markdown",
   "metadata": {},
   "source": [
    "#### *Problem 3: Creating an Amortization Schedule*"
   ]
  },
  {
   "attachments": {},
   "cell_type": "markdown",
   "metadata": {},
   "source": [
    "Suppose $1000 is borrowed at the beginning of the year. The loan is charged interest atan  annual interest rate of 5%. The borrower will repay the loan by making payments of $150 at the end of the year until the loan is repaid. note that when the final payment is made, the balance will be less than $150, and so a partial payment will be made. Using no lists and **one** while loop, calculate and print how large the loan is after eah year until it has been repaid. Show the amount of the final payment **in a new code cell**."
   ]
  },
  {
   "cell_type": "code",
   "execution_count": 125,
   "metadata": {},
   "outputs": [
    {
     "name": "stdout",
     "output_type": "stream",
     "text": [
      "The price at the end of year 1 is $900.00.\n",
      "The price at the end of year 2 is $795.00.\n",
      "The price at the end of year 3 is $684.75.\n",
      "The price at the end of year 4 is $568.99.\n",
      "The price at the end of year 5 is $447.44.\n",
      "The price at the end of year 6 is $319.81.\n",
      "The price at the end of year 7 is $185.80.\n",
      "The price at the end of year 8 is $45.09.\n",
      "The balance at the end of year 9 is $0.00.\n"
     ]
    }
   ],
   "source": [
    "#variables\n",
    "balance = 1000 #initial loan amount\n",
    "i = 5/100 #5% interest\n",
    "pmt = 150 #$150 annual payment\n",
    "n = 0 #initialize number of payments\n",
    "\n",
    "#calculate balance \n",
    "while balance>=0:\n",
    "    balance = balance*(1+i)-pmt #payment\n",
    "    n = n+1 #calculates number of years after each execution of loop\n",
    "    if balance>=0:#shows how much is left after payment\n",
    "        print('The price at the end of year'+' '+str(n)+' '+'is $'+f'{balance:.2f}'+'.')    \n",
    "    else:\n",
    "        print('The balance at the end of year'+' '+str(n)+' '+'is $'+f'{0:.2f}'+'.') "
   ]
  },
  {
   "cell_type": "code",
   "execution_count": 126,
   "metadata": {},
   "outputs": [
    {
     "name": "stdout",
     "output_type": "stream",
     "text": [
      "The amount of the final payment is $47.34.\n"
     ]
    }
   ],
   "source": [
    "#final payment\n",
    "\n",
    "print('The amount of the final payment is'+' $'+f'{(balance+pmt):.2f}'+'.') "
   ]
  },
  {
   "attachments": {},
   "cell_type": "markdown",
   "metadata": {},
   "source": [
    "#### *Problem 4: Hailstone Sequences*"
   ]
  },
  {
   "attachments": {},
   "cell_type": "markdown",
   "metadata": {},
   "source": [
    "In mathematics, a hailstone sequence is created as follows: \n",
    "* Select a starting value for the sequence. \n",
    "  \n",
    "* If a  particular term in the sequence is equal to $n$:\n",
    "  \n",
    "  * if $n$ is even, the next term will be equal to $\\frac{n}{2}$ \n",
    "  \n",
    "  * if $n$ is odd, the next term will be equal to $3n+1$\n",
    "  \n",
    "* The sequence continues until reaching a term that is equal to 1 \n",
    "\n",
    "Generate hailstone sequences using **while loops and lists** and the following starting values: **15, 17, and 22**."
   ]
  },
  {
   "cell_type": "code",
   "execution_count": 127,
   "metadata": {},
   "outputs": [
    {
     "name": "stdout",
     "output_type": "stream",
     "text": [
      "\n",
      "Hailstone Sequence with Initial Value of 15:  [15, 46, 23, 70, 35, 106, 53, 160, 80, 40, 20, 10, 5, 16, 8, 4, 2, 1]\n",
      "\n",
      "Hailstone Sequence with Initial Value of 17:  [17, 52, 26, 13, 40, 20, 10, 5, 16, 8, 4, 2, 1]\n",
      "\n",
      "Hailstone Sequence with Initial Value of 22:  [22, 11, 34, 17, 52, 26, 13, 40, 20, 10, 5, 16, 8, 4, 2, 1]\n"
     ]
    }
   ],
   "source": [
    "#hailstone sequence seed=15\n",
    "seed = 15\n",
    "hst = [seed]\n",
    "hst_increase = True\n",
    "\n",
    "while hst_increase == True:\n",
    "    if seed == 1:\n",
    "        hst_increase=False\n",
    "        print('\\n'+'Hailstone Sequence with Initial Value of 15'+': ',hst)\n",
    "        break\n",
    "    elif seed %2 != 0:\n",
    "        seed = seed*3+1\n",
    "        hst.append(seed)\n",
    "        \n",
    "    else:\n",
    "        seed = seed//2\n",
    "        hst.append(seed)\n",
    "        \n",
    "#hailstone sequence seed=17        \n",
    "seed = 17\n",
    "hst = [seed]\n",
    "hst_increase = True\n",
    "\n",
    "while hst_increase == True:\n",
    "    if seed == 1:\n",
    "        hst_increase=False\n",
    "        print('\\n'+'Hailstone Sequence with Initial Value of 17'+': ',hst)\n",
    "        break\n",
    "    elif seed %2 != 0:\n",
    "        seed = seed*3+1\n",
    "        hst.append(seed)\n",
    "        \n",
    "    else:\n",
    "        seed = seed//2\n",
    "        hst.append(seed)\n",
    "        \n",
    "#hailstone sequence seed=22\n",
    "seed = 22\n",
    "hst = [seed]\n",
    "hst_increase = True\n",
    "\n",
    "while hst_increase == True:\n",
    "    if seed == 1:\n",
    "        hst_increase=False\n",
    "        print('\\n'+'Hailstone Sequence with Initial Value of 22'+': ',hst)\n",
    "        break\n",
    "    elif seed %2 != 0:\n",
    "        seed = seed*3+1\n",
    "        hst.append(seed)\n",
    "        \n",
    "    else:\n",
    "        seed = seed//2\n",
    "        hst.append(seed)\n",
    "        "
   ]
  },
  {
   "attachments": {},
   "cell_type": "markdown",
   "metadata": {},
   "source": [
    "#### *Problem 5: Predator/Prey Model*"
   ]
  },
  {
   "attachments": {},
   "cell_type": "markdown",
   "metadata": {},
   "source": [
    "Assume that a certain ecosystem contains both rabbits and wolves. The size of the rabbit population and the size of the wolf population both fluctuate, and have an effect on each other. \n",
    "\n",
    "* let $r_{c}$ be the current size of the rabbit population \n",
    "  \n",
    "* let $r_{n}$ be the size of the rabbit population in year *$n$*\n",
    "\n",
    "* let $w_{c}$ be the current size of the wolf population \n",
    "\n",
    "* let $w_{n}$ be the size of the wolf population in year *$n$*\n",
    "\n",
    "\n",
    "Suppose that the current sizes of the populations can be used to determine the sizes of the populations one year from now according to the following population model: $$r_{n}=1.5×r_{c}-r_{c}×w_{c}×2×10^{-3}$$ $$w_{n}=8×10^{-1}×w_{c}+r_{c}×w_{c}×3×10^{-4}$$\n",
    "\n",
    "Suppose that the current rabbit population is 1000 and the wolf population is 200. Under these circumstances, the populations will fluctuate for several years, but the rabbit population will eventually die out completely. \n",
    "\n",
    "Using a single loop **and no lists** output a table with the following format until the rabbit population reaches zero:\n",
    "\n",
    "    Year   r_pop      w_pop\n",
    "    -----------------------\n",
    "    0      1000       200\n",
    "    1      1100       220\n",
    "    2      1166       248\n",
    "    ...    ...        ...\n",
    "\n",
    "Output must be rounded to the nearest integer and any negative values should be zero."
   ]
  },
  {
   "cell_type": "code",
   "execution_count": 128,
   "metadata": {},
   "outputs": [
    {
     "name": "stdout",
     "output_type": "stream",
     "text": [
      "Year   r_pop    w_pop\n",
      "---------------------\n",
      "0      1000\t200\n",
      "1      1100\t220\n",
      "2      1166\t248\n",
      "3      1169\t285\n",
      "4      1085\t328\n",
      "5      914\t370\n",
      "6      694\t397\n",
      "7      489\t401\n",
      "8      341\t379\n",
      "9      252\t342\n",
      "10      205\t300\n",
      "11      185\t258\n",
      "12      182\t221\n",
      "13      192\t189\n",
      "14      216\t162\n",
      "15      254\t140\n",
      "16      309\t122\n",
      "17      388\t109\n",
      "18      497\t100\n",
      "19      646\t95\n",
      "20      845\t94\n",
      "21      1108\t100\n",
      "22      1440\t113\n",
      "23      1834\t139\n",
      "24      2239\t188\n",
      "25      2515\t277\n",
      "26      2377\t431\n",
      "27      1515\t652\n",
      "28      295\t818\n",
      "29      0\t727\n"
     ]
    }
   ],
   "source": [
    "#populations at year 0\n",
    "r_pop_prev = 1000\n",
    "w_pop_prev = 200\n",
    "n = 0\n",
    "print('Year'+'   r_pop'+'    w_pop'+'\\n---------------------')\n",
    "print(str(n)+'      '+str(r_pop_prev)+'\\t'+''+str(w_pop_prev))\n",
    "\n",
    "while r_pop_prev>0:\n",
    "    w_pop = 8*10**-1*w_pop_prev+r_pop_prev*w_pop_prev*3*10**-4\n",
    "    r_pop = 1.5*r_pop_prev-r_pop_prev*w_pop_prev*2*10**-3\n",
    "    r_pop_prev = r_pop \n",
    "    w_pop_prev = w_pop\n",
    "    if r_pop_prev<0:\n",
    "        r_pop_prev=0\n",
    "    if w_pop_prev<0:\n",
    "        w_pop_prev=0\n",
    "    n=n+1\n",
    "    print(str(n)+'      '+str(int(r_pop_prev))+'\\t'+''+str(int(w_pop_prev)))\n",
    "    "
   ]
  },
  {
   "attachments": {},
   "cell_type": "markdown",
   "metadata": {},
   "source": [
    "#### *Question 6: Finding a Root of a Polynomial Function*"
   ]
  },
  {
   "attachments": {
    "image.png": {
     "image/png": "[encoded data removed]"
    }
   },
   "cell_type": "markdown",
   "metadata": {},
   "source": [
    "Consider the function $f(x)=x^3-4x^2+3x-4$:\n",
    "\n",
    "![image.png](attachment:image.png)\n",
    "\n",
    "The plot above shows that $f(x)$ is equal to zero somewhere between $x=0$ and $x=5$. Find the the root to 7 decimals and the number of iterations it took. \n"
   ]
  },
  {
   "cell_type": "code",
   "execution_count": 129,
   "metadata": {},
   "outputs": [
    {
     "name": "stdout",
     "output_type": "stream",
     "text": [
      "f(x)=1.177014041786606e-11\n",
      "\n",
      "f(x) is zero when x=3.4675039\n",
      "\n",
      "Number Of Iterations: 7\n"
     ]
    }
   ],
   "source": [
    "#Using Newton's Method\n",
    "\n",
    "upper_bound=5\n",
    "lower_bound=0\n",
    "x = (upper_bound+lower_bound)/2 #initial x value\n",
    "func = x**3-4*x**2+3*x-4 #f(x)\n",
    "n=0 #number of iterations\n",
    "\n",
    "while round(func,7)!=0: #finds the zero within 7 decimals\n",
    "    func_dy = 3*x**2-8*x+3 #f'(x)\n",
    "    x = x-(func/func_dy) #newton's method\n",
    "    func = x**3-4*x**2+3*x-4\n",
    "    n = n+1\n",
    "\n",
    "print('f(x)='+str(func))\n",
    "print('\\nf(x) is zero when x='+str(round(x,7)))\n",
    "print('\\nNumber Of Iterations: '+str(n))"
   ]
  },
  {
   "attachments": {},
   "cell_type": "markdown",
   "metadata": {},
   "source": [
    "Newton's Method states if a function has a root, the following sequence will converge to zero: $$x_{n+1}=x_{n}-\\frac{f(x)}{f'(x)}$$"
   ]
  },
  {
   "attachments": {},
   "cell_type": "markdown",
   "metadata": {},
   "source": [
    "#### *Problem 7: Grade Database*"
   ]
  },
  {
   "attachments": {
    "image.png": {
     "image/png": "[encoded data removed]"
    }
   },
   "cell_type": "markdown",
   "metadata": {},
   "source": [
    "The following dictionaries and lists contain information about their names (students), class (courses), student id (SID), and course id (CID):\n",
    "\n",
    "    students = {\n",
    "    146832:{'first':'Brendan', 'last':'Small'},\n",
    "    147354:{'first':'Melissa', 'last':'Robbins'},\n",
    "    149126:{'first':'Jason', 'last':'Penopolis'},\n",
    "    149735:{'first':'Fenton', 'last':'Mulley'}\n",
    "    }\n",
    "\n",
    "    courses = {\n",
    "    'ENGL 101':'Composition I',\n",
    "    'ENGL 104':'Composition II',\n",
    "    'MATH 117':'College Algebra',\n",
    "    'MATH 151':'Calculus I',\n",
    "    'CHEM 103':'General Chemistry I',\n",
    "    'ECON 201':'Macroeconomics'\n",
    "    }\n",
    "\n",
    "    sid = [149126, 146832, 147354, 149735, 149126, 146832,\n",
    "    146832, 149735, 149126, 147354, 147354, 149735]\n",
    "\n",
    "    cid = ['ENGL 101', 'MATH 117', 'ENGL 104', 'CHEM 103', 'MATH 117', 'ECON 201',\n",
    "    'ENGL 101', 'ENGL 101', 'CHEM 103', 'ENGL 104', 'MATH 151', 'MATH 117']\n",
    "\n",
    "    grade = ['D', 'C', 'B', 'A', 'B', 'C',\n",
    "    'A', 'F', 'B', 'A', 'A', 'C']\n",
    "\n",
    "Using a loop print a table with the following format for **all** students:\n",
    "\n",
    "![image.png](attachment:image.png)\n",
    "\n",
    "**The table must meet the following conditions:** \n",
    "* The first row of output should contain column headers \n",
    "* The second row should be a dividing line consisting of 69 characters\n",
    "* The table should have columns for student ID, first name, last name, course id, and grade\n",
    "* The number of characters reserved for each column should be 9, 10, 12, 11, 22, and 5 respectively \n",
    "* All columns should be left-aligned except for the grade column, which should be right aligned\n"
   ]
  },
  {
   "cell_type": "code",
   "execution_count": 130,
   "metadata": {},
   "outputs": [
    {
     "name": "stdout",
     "output_type": "stream",
     "text": [
      "SID       First      Last        CID         Course Name        Grade\n",
      "---------------------------------------------------------------------\n",
      "149126    Jason      Penopolis   ENGL 101    Composition I          D\n",
      "146832    Brendan    Small       MATH 117    College Algebra        C\n",
      "147354    Melissa    Robbins     ENGL 104    Composition II         B\n",
      "149735    Fenton     Mulley      CHEM 103    General Chemistry I    A\n",
      "149126    Jason      Penopolis   MATH 117    College Algebra        B\n",
      "146832    Brendan    Small       ECON 201    Macroeconomics         C\n",
      "146832    Brendan    Small       ENGL 101    Composition I          A\n",
      "149735    Fenton     Mulley      ENGL 101    Composition I          F\n",
      "149126    Jason      Penopolis   CHEM 103    General Chemistry I    B\n",
      "147354    Melissa    Robbins     ENGL 104    Composition II         A\n",
      "147354    Melissa    Robbins     MATH 151    Calculus I             A\n",
      "149735    Fenton     Mulley      MATH 117    College Algebra        C\n"
     ]
    }
   ],
   "source": [
    "#dictionaries\n",
    "students = {\n",
    "146832:{'first':'Brendan', 'last':'Small'},\n",
    "147354:{'first':'Melissa', 'last':'Robbins'},\n",
    "149126:{'first':'Jason', 'last':'Penopolis'},\n",
    "149735:{'first':'Fenton', 'last':'Mulley'}\n",
    "}\n",
    "\n",
    "courses = {\n",
    "'ENGL 101':'Composition I',\n",
    "'ENGL 104':'Composition II',\n",
    "'MATH 117':'College Algebra',\n",
    "'MATH 151':'Calculus I',\n",
    "'CHEM 103':'General Chemistry I',\n",
    "'ECON 201':'Macroeconomics'\n",
    "}\n",
    "\n",
    "#lists\n",
    "sid = [149126, 146832, 147354, 149735, 149126, 146832,\n",
    "146832, 149735, 149126, 147354, 147354, 149735]\n",
    "cid = ['ENGL 101', 'MATH 117', 'ENGL 104', 'CHEM 103', 'MATH 117', 'ECON 201',\n",
    "'ENGL 101', 'ENGL 101', 'CHEM 103', 'ENGL 104', 'MATH 151', 'MATH 117']\n",
    "grade = ['D', 'C', 'B', 'A', 'B', 'C',\n",
    "'A', 'F', 'B', 'A', 'A', 'C']\n",
    "first_name=[]\n",
    "last_name=[]\n",
    "course_name=[]\n",
    "\n",
    "#headings\n",
    "heading_1=\"SID\"\n",
    "heading_2=\"First\"\n",
    "heading_3=\"Last\"\n",
    "heading_4=\"CID\"\n",
    "heading_5=\"Course Name\"\n",
    "heading_6=\"Grade\"\n",
    "\n",
    "#set heading spacing\n",
    "sp_hd_1=10\n",
    "sp_hd_2=11\n",
    "sp_hd_3=12\n",
    "sp_hd_4=12\n",
    "sp_hd_5=19\n",
    "\n",
    "#heading spacing\n",
    "heading_1_spacing=sp_hd_1-len(heading_1)\n",
    "heading_2_spacing=sp_hd_2-len(heading_2)\n",
    "heading_3_spacing=sp_hd_3-len(heading_3)\n",
    "heading_4_spacing=sp_hd_4-len(heading_4)\n",
    "heading_5_spacing=sp_hd_5-len(heading_5)\n",
    "\n",
    "#print table\n",
    "print(f'{heading_1}{\" \"*heading_1_spacing}{heading_2}{\" \"*heading_2_spacing}{heading_3}{\" \"*heading_3_spacing}{heading_4}{\" \"*heading_4_spacing}{heading_5}{\" \"*heading_5_spacing}{heading_6}'+\n",
    "      \"\\n\"+f'{\"-\"*69}') \n",
    "for i in range(len(sid)):\n",
    "    first_name.append(students[sid[i]]['first'])\n",
    "    last_name.append(students[sid[i]]['last'])\n",
    "    course_name.append(courses[cid[i]])\n",
    "    print(f'{sid[i]:<9} {first_name[i]:<10} {last_name[i]:<11} {cid[i]:<11} {course_name[i]:<22} {grade[i]}')\n",
    "\n"
   ]
  },
  {
   "attachments": {},
   "cell_type": "markdown",
   "metadata": {},
   "source": [
    "#### *Problem 8: Warehouse Inventory*"
   ]
  },
  {
   "attachments": {},
   "cell_type": "markdown",
   "metadata": {},
   "source": [
    "Suppose that a company sells five products with product codes p101, p107, p122, p125, and p126. The company has three\n",
    "warehouses, which are located in St. Louis, Chicago, and Kansas City. The retail value for each of the five products and the\n",
    "inventory for each of the warehouses are stored in dictionaries, as shown below.\n",
    "\n",
    "    prices = {'p101':37.52, 'p117':56.98, 'p122':43.72, 'p125':48.33, 'p126':52.45}\n",
    "\n",
    "    inventory = {\n",
    "    'STL':{'p101':520, 'p117':315, 'p122':117, 'p125':258, 'p126':345},\n",
    "    'CHI':{'p101':125, 'p117':864, 'p122':231, 'p125':612, 'p126':164},\n",
    "    'KC' :{'p101':264, 'p117':285, 'p122':772, 'p125':467, 'p126':106}\n",
    "    }\n",
    "\n",
    "Create a new dictionary named total_inventory that contains 5 key/value pairs. The keys should be product ids\n",
    "and the values should be the total quantity for that product across all three warehouses."
   ]
  },
  {
   "attachments": {},
   "cell_type": "markdown",
   "metadata": {},
   "source": [
    "##### *Part I*"
   ]
  },
  {
   "attachments": {},
   "cell_type": "markdown",
   "metadata": {},
   "source": [
    "Display the results by looping over the key/value pairs in total_inventory. Each time the loop executes, print out the\n",
    "pair in the following format: key: value"
   ]
  },
  {
   "cell_type": "code",
   "execution_count": 131,
   "metadata": {},
   "outputs": [
    {
     "name": "stdout",
     "output_type": "stream",
     "text": [
      "\u001b[1minventory\u001b[0m\n",
      "-----------\n",
      "p101: 909\n",
      "p117: 1464\n",
      "p122: 1120\n",
      "p125: 1337\n",
      "p127: 615\n"
     ]
    }
   ],
   "source": [
    "\n",
    "products = ['p101', 'p117', 'p122', 'p125', 'p127']\n",
    "prices = {'p101':37.52, 'p117':56.98, 'p122':43.72, 'p125':48.33, 'p126':52.45}\n",
    "inventory = {\n",
    "'STL':{'p101':520, 'p117':315, 'p122':117, 'p125':258, 'p126':345},\n",
    "'CHI':{'p101':125, 'p117':864, 'p122':231, 'p125':612, 'p126':164},\n",
    "'KC' :{'p101':264, 'p117':285, 'p122':772, 'p125':467, 'p126':106}\n",
    "}\n",
    "total_inventory = {\n",
    "    'p101':inventory['STL']['p101']+inventory['CHI']['p101']+inventory['KC']['p101'],\n",
    "    'p117':inventory['STL']['p117']+inventory['CHI']['p117']+inventory['KC']['p117'],\n",
    "    'p122':inventory['STL']['p122']+inventory['CHI']['p122']+inventory['KC']['p122'],\n",
    "    'p125':inventory['STL']['p125']+inventory['CHI']['p125']+inventory['KC']['p125'],\n",
    "    'p127':inventory['STL']['p126']+inventory['CHI']['p126']+inventory['KC']['p126']\n",
    "}\n",
    "\n",
    "print('\\033[1minventory\\033[0m','-----------',\n",
    "      *[str(i)+': '+str(n) for i,n in total_inventory.items()], \n",
    "      sep='\\n')"
   ]
  },
  {
   "attachments": {},
   "cell_type": "markdown",
   "metadata": {},
   "source": [
    "##### *Part II*"
   ]
  },
  {
   "attachments": {},
   "cell_type": "markdown",
   "metadata": {},
   "source": [
    "Calculate the total value of the company’s inventory."
   ]
  },
  {
   "cell_type": "code",
   "execution_count": 132,
   "metadata": {},
   "outputs": [
    {
     "name": "stdout",
     "output_type": "stream",
     "text": [
      "\u001b[1minventory value\u001b[0m\n",
      "------------------\n",
      "p101: \t$34105.68\n",
      "p117: \t$83418.72\n",
      "p122: \t$48966.4\n",
      "p125: \t$64617.21\n",
      "p127: \t$32256.75\n",
      "------------------\n",
      "\u001b[1mvalue:\t$263364.76\n"
     ]
    }
   ],
   "source": [
    "total_prices = {\n",
    "    'p101':(inventory['STL']['p101']+inventory['CHI']['p101']+inventory['KC']['p101'])*prices['p101'],\n",
    "    'p117':(inventory['STL']['p117']+inventory['CHI']['p117']+inventory['KC']['p117'])*prices['p117'],\n",
    "    'p122':(inventory['STL']['p122']+inventory['CHI']['p122']+inventory['KC']['p122'])*prices['p122'],\n",
    "    'p125':(inventory['STL']['p125']+inventory['CHI']['p125']+inventory['KC']['p125'])*prices['p125'],\n",
    "    'p127':(inventory['STL']['p126']+inventory['CHI']['p126']+inventory['KC']['p126'])*prices['p126']\n",
    "}\n",
    "print('\\033[1minventory value\\033[0m','------------------',\n",
    "      *[str(i)+': \\t$'+str(n) for i,n in total_prices.items()]\n",
    "      ,'------------------','\\033[1mvalue:\\t$'+str(total_prices['p101']\n",
    "      +total_prices['p117']+total_prices['p122']+total_prices['p125']+total_prices['p127']),sep='\\n')"
   ]
  }
 ],
 "metadata": {
  "kernelspec": {
   "display_name": "base",
   "language": "python",
   "name": "python3"
  },
  "language_info": {
   "codemirror_mode": {
    "name": "ipython",
    "version": 3
   },
   "file_extension": ".py",
   "mimetype": "text/x-python",
   "name": "python",
   "nbconvert_exporter": "python",
   "pygments_lexer": "ipython3",
   "version": "3.9.13"
  },
  "orig_nbformat": 4
 },
 "nbformat": 4,
 "nbformat_minor": 2
}
